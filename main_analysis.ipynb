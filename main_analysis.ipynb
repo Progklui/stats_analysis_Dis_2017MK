{
 "cells": [
  {
   "cell_type": "markdown",
   "metadata": {},
   "source": [
    "# This is a IPython notebook for conducting two way anova test"
   ]
  },
  {
   "cell_type": "code",
   "execution_count": 93,
   "metadata": {
    "collapsed": false
   },
   "outputs": [],
   "source": [
    "import pandas as pd\n",
    "import statsmodels.api as sm\n",
    "from statsmodels.formula.api import ols\n",
    "from statsmodels.stats.anova import anova_lm\n",
    "from statsmodels.graphics.factorplots import interaction_plot\n",
    "import matplotlib.pyplot as plt\n",
    "from scipy import stats\n",
    "\n",
    "import scipy"
   ]
  },
  {
   "cell_type": "code",
   "execution_count": 94,
   "metadata": {
    "collapsed": true
   },
   "outputs": [],
   "source": [
    "def eta_squared(aov):\n",
    "    aov['eta_sq'] = 'NaN'\n",
    "    aov['eta_sq'] = aov[:-1]['sum_sq']/sum(aov['sum_sq'])\n",
    "    return aov\n",
    " \n",
    "def omega_squared(aov):\n",
    "    mse = aov['sum_sq'][-1]/aov['df'][-1]\n",
    "    aov['omega_sq'] = 'NaN'\n",
    "    aov['omega_sq'] = (aov[:-1]['sum_sq']-(aov[:-1]['df']*mse))/(sum(aov['sum_sq'])+mse)\n",
    "    return aov"
   ]
  },
  {
   "cell_type": "code",
   "execution_count": 95,
   "metadata": {
    "collapsed": true
   },
   "outputs": [],
   "source": [
    "def two_way_anova(value, group1, group2):\n",
    "    formula = value + ' ~ C(' + group1 + ') + C(' + group2 + ') + C(' + group1 + '):C(' + group2 + ')'\n",
    "    model = ols(formula, data).fit()\n",
    "    aov_table = anova_lm(model, typ=2)\n",
    "    \n",
    "    eta_squared(aov_table)\n",
    "    omega_squared(aov_table)\n",
    "    \n",
    "    print(aov_table)"
   ]
  },
  {
   "cell_type": "code",
   "execution_count": 96,
   "metadata": {
    "collapsed": true
   },
   "outputs": [],
   "source": [
    "def independent_samples_t_test():\n",
    "    data1 = data.Score\n",
    "    data2 = data.Zeit\n",
    "    \n",
    "    twosample_results = scipy.stats.ttest_ind(data1, data2)\n",
    "\n",
    "    print(twosample_results)"
   ]
  },
  {
   "cell_type": "code",
   "execution_count": 97,
   "metadata": {
    "collapsed": false
   },
   "outputs": [
    {
     "name": "stdout",
     "output_type": "stream",
     "text": [
      "Ttest_indResult(statistic=-119.02728358173742, pvalue=1.2175314329142074e-162)\n"
     ]
    }
   ],
   "source": [
    "datafile = \"players.csv\"\n",
    "data = pd.read_csv(datafile)\n",
    "\n",
    "independent_samples_t_test()"
   ]
  },
  {
   "cell_type": "code",
   "execution_count": 98,
   "metadata": {
    "collapsed": false
   },
   "outputs": [
    {
     "name": "stdout",
     "output_type": "stream",
     "text": [
      "                           sum_sq    df          F    PR(>F)    eta_sq  \\\n",
      "C(Position2)         1.608441e+05   1.0   7.196326  0.008873  0.064628   \n",
      "C(Age)               4.906984e+05   1.0  21.954335  0.000011  0.197164   \n",
      "C(Position2):C(Age)  4.917082e+04   1.0   2.199952  0.141944  0.019757   \n",
      "Residual             1.788069e+06  80.0        NaN       NaN       NaN   \n",
      "\n",
      "                     omega_sq  \n",
      "C(Position2)         0.055152  \n",
      "C(Age)               0.186508  \n",
      "C(Position2):C(Age)  0.010680  \n",
      "Residual                  NaN  \n"
     ]
    }
   ],
   "source": [
    "two_way_anova('Zeit', 'Position2', 'Age')"
   ]
  },
  {
   "cell_type": "code",
   "execution_count": 99,
   "metadata": {
    "collapsed": false
   },
   "outputs": [
    {
     "name": "stdout",
     "output_type": "stream",
     "text": [
      "                          sum_sq    df         F    PR(>F)    eta_sq  omega_sq\n",
      "C(Position2)          162.909744   1.0  1.854903  0.177037  0.021004  0.009572\n",
      "C(Age)                553.659081   1.0  6.304007  0.014062  0.071385  0.059389\n",
      "C(Position2):C(Age)    13.272003   1.0  0.151116  0.698504  0.001711 -0.009505\n",
      "Residual             7026.123214  80.0       NaN       NaN       NaN       NaN\n"
     ]
    }
   ],
   "source": [
    "analysis('Score', 'Position2', 'Age')"
   ]
  },
  {
   "cell_type": "code",
   "execution_count": 100,
   "metadata": {
    "collapsed": false
   },
   "outputs": [
    {
     "data": {
      "image/png": "[encoded data removed]",
      "text/plain": [
       "<matplotlib.figure.Figure at 0x7fc29d984c50>"
      ]
     },
     "metadata": {},
     "output_type": "display_data"
    }
   ],
   "source": [
    "res = model.resid \n",
    "fig = sm.qqplot(res, line='s')\n",
    "\n",
    "plt.show()"
   ]
  }
 ],
 "metadata": {
  "kernelspec": {
   "display_name": "Python 3",
   "language": "python",
   "name": "python3"
  },
  "language_info": {
   "codemirror_mode": {
    "name": "ipython",
    "version": 3
   },
   "file_extension": ".py",
   "mimetype": "text/x-python",
   "name": "python",
   "nbconvert_exporter": "python",
   "pygments_lexer": "ipython3",
   "version": "3.6.0"
  }
 },
 "nbformat": 4,
 "nbformat_minor": 2
}
