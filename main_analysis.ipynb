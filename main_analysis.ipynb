{
 "cells": [
  {
   "cell_type": "markdown",
   "metadata": {},
   "source": [
    "# IPython notebook for data analysis diss"
   ]
  },
  {
   "cell_type": "markdown",
   "metadata": {},
   "source": [
    "## Imports:"
   ]
  },
  {
   "cell_type": "code",
   "execution_count": 230,
   "metadata": {
    "collapsed": false
   },
   "outputs": [],
   "source": [
    "import pandas as pd\n",
    "import statsmodels.api as sm\n",
    "from statsmodels.formula.api import ols\n",
    "from statsmodels.stats.anova import anova_lm\n",
    "from statsmodels.graphics.factorplots import interaction_plot\n",
    "import matplotlib.pyplot as plt\n",
    "from scipy import stats\n",
    "\n",
    "import scipy"
   ]
  },
  {
   "cell_type": "markdown",
   "metadata": {},
   "source": [
    "## Functions needed by two-way ANOVA:"
   ]
  },
  {
   "cell_type": "code",
   "execution_count": 231,
   "metadata": {
    "collapsed": true
   },
   "outputs": [],
   "source": [
    "def eta_squared(aov):\n",
    "    aov['eta_sq'] = 'NaN'\n",
    "    aov['eta_sq'] = aov[:-1]['sum_sq']/sum(aov['sum_sq'])\n",
    "    return aov\n",
    " \n",
    "def omega_squared(aov):\n",
    "    mse = aov['sum_sq'][-1]/aov['df'][-1]\n",
    "    aov['omega_sq'] = 'NaN'\n",
    "    aov['omega_sq'] = (aov[:-1]['sum_sq']-(aov[:-1]['df']*mse))/(sum(aov['sum_sq'])+mse)\n",
    "    return aov"
   ]
  },
  {
   "cell_type": "markdown",
   "metadata": {},
   "source": [
    "## Function for conducting two-way ANOVA:"
   ]
  },
  {
   "cell_type": "code",
   "execution_count": 232,
   "metadata": {
    "collapsed": true
   },
   "outputs": [],
   "source": [
    "def two_way_anova(value, group1, group2):\n",
    "    formula = value + ' ~ C(' + group1 + ') + C(' + group2 + ') + C(' + group1 + '):C(' + group2 + ')'\n",
    "    model = ols(formula, data_all).fit()\n",
    "    aov_table = anova_lm(model, typ=2)\n",
    "    \n",
    "    eta_squared(aov_table)\n",
    "    omega_squared(aov_table)\n",
    "    \n",
    "    print(aov_table)\n",
    "    \n",
    "    res = model.resid \n",
    "    fig = sm.qqplot(res, line='s')\n",
    "\n",
    "    plt.show()"
   ]
  },
  {
   "cell_type": "markdown",
   "metadata": {},
   "source": [
    "## Function for conducting Independent-Samples t-Test"
   ]
  },
  {
   "cell_type": "code",
   "execution_count": 233,
   "metadata": {
    "collapsed": false
   },
   "outputs": [],
   "source": [
    "def independent_samples_t_test():\n",
    "    zmf_Zeit = data_zmf.Zeit\n",
    "    rest_Zeit = data_rest.Zeit\n",
    "    zmf_Zeit_3 = data_zmf.Zeit_3\n",
    "    rest_Zeit_3 = data_rest.Zeit_3\n",
    "    \n",
    "    twosample_results_Zeit = scipy.stats.ttest_ind(zmf_Zeit, rest_Zeit)\n",
    "    twosample_results_Zeit_3 = scipy.stats.ttest_ind(zmf_Zeit_3, rest_Zeit_3)\n",
    "    \n",
    "    zmf_Score = data_zmf.Score\n",
    "    rest_Score = data_rest.Score\n",
    "    zmf_Score_3 = data_zmf.Score_3\n",
    "    rest_Score_3 = data_rest.Score_3\n",
    "    \n",
    "    twosample_results_Score = scipy.stats.ttest_ind(zmf_Score, rest_Score)\n",
    "    twosample_results_Score_3 = scipy.stats.ttest_ind(zmf_Score_3, rest_Score_3)\n",
    "    \n",
    "    print('p-Value Zeit (Mautner-Test):\\tp-Value Zeit (Referenz-Test):\\n'+str(twosample_results_Zeit.pvalue)+'\\t                '+str(twosample_results_Zeit_3.pvalue))\n",
    "    print('\\np-Value Score (Mautner-Test):\\tp-ValueScore (Referenz-Test):\\n'+str(twosample_results_Score.pvalue)+'\\t                '+str(twosample_results_Score_3.pvalue))"
   ]
  },
  {
   "cell_type": "markdown",
   "metadata": {},
   "source": [
    "## Reading all necessary files\n",
    "\n",
    "It is important for the analysis that the required datafiles are in the same directory and are prepared accordingly so that the notebook is able to retrieve the data."
   ]
  },
  {
   "cell_type": "code",
   "execution_count": 234,
   "metadata": {
    "collapsed": false
   },
   "outputs": [],
   "source": [
    "all_players = \"players.csv\"\n",
    "rest = \"rest.csv\"\n",
    "zmf = \"zmf.csv\"\n",
    "\n",
    "data_all = pd.read_csv(all_players)\n",
    "data_zmf = pd.read_csv(zmf)\n",
    "data_rest = pd.read_csv(rest)"
   ]
  },
  {
   "cell_type": "markdown",
   "metadata": {},
   "source": [
    "## Result Independent Samples t-Test\n",
    "\n",
    "This test examines the difference between the ZMF and the REST in both testings."
   ]
  },
  {
   "cell_type": "code",
   "execution_count": 235,
   "metadata": {
    "collapsed": false
   },
   "outputs": [
    {
     "name": "stdout",
     "output_type": "stream",
     "text": [
      "p-Value Zeit (Mautner-Test):\tp-Value Zeit (Referenz-Test):\n",
      "0.028505617621\t                0.00370422005448\n",
      "\n",
      "p-Value Score (Mautner-Test):\tp-ValueScore (Referenz-Test):\n",
      "0.109043251992\t                0.243081859625\n"
     ]
    }
   ],
   "source": [
    "independent_samples_t_test()"
   ]
  },
  {
   "cell_type": "markdown",
   "metadata": {},
   "source": [
    "## Result two-way ANOVA\n",
    "\n",
    "This test examines the effect of age (divided into two groups: U15U16 and U18U19) and position (again divided into two groups: ZMF and REST) on Zeit and Score for two testings.\n",
    "\n",
    "### Result when measured against Zeit (Mautner-Test)"
   ]
  },
  {
   "cell_type": "code",
   "execution_count": 236,
   "metadata": {
    "collapsed": false
   },
   "outputs": [
    {
     "name": "stdout",
     "output_type": "stream",
     "text": [
      "                           sum_sq    df          F    PR(>F)    eta_sq  \\\n",
      "C(Position2)         1.880105e+05   1.0   8.574414  0.004482  0.075489   \n",
      "C(Age)               5.426057e+05   1.0  24.746091  0.000004  0.217864   \n",
      "C(Position2):C(Age)  7.158627e+04   1.0   3.264766  0.074690  0.028743   \n",
      "Residual             1.688373e+06  77.0        NaN       NaN       NaN   \n",
      "\n",
      "                     omega_sq  \n",
      "C(Position2)         0.066103  \n",
      "C(Age)               0.207235  \n",
      "C(Position2):C(Age)  0.019765  \n",
      "Residual                  NaN  \n"
     ]
    },
    {
     "data": {
      "image/png": "[encoded data removed]",
      "text/plain": [
       "<matplotlib.figure.Figure at 0x7fc66724d320>"
      ]
     },
     "metadata": {},
     "output_type": "display_data"
    }
   ],
   "source": [
    "two_way_anova('Zeit', 'Position2', 'Age')"
   ]
  },
  {
   "cell_type": "markdown",
   "metadata": {},
   "source": [
    "### Result when measured against Score (Mautner-Test)"
   ]
  },
  {
   "cell_type": "code",
   "execution_count": 237,
   "metadata": {
    "collapsed": false
   },
   "outputs": [
    {
     "name": "stdout",
     "output_type": "stream",
     "text": [
      "                          sum_sq    df         F    PR(>F)    eta_sq  omega_sq\n",
      "C(Position2)          194.188904   1.0  2.210619  0.141147  0.026148  0.014152\n",
      "C(Age)                441.378555   1.0  5.024591  0.027870  0.059432  0.047047\n",
      "C(Position2):C(Age)    27.060389   1.0  0.308052  0.580487  0.003644 -0.008089\n",
      "Residual             6763.962606  77.0       NaN       NaN       NaN       NaN\n"
     ]
    },
    {
     "data": {
      "image/png": "[encoded data removed]",
      "text/plain": [
       "<matplotlib.figure.Figure at 0x7fc667390470>"
      ]
     },
     "metadata": {},
     "output_type": "display_data"
    }
   ],
   "source": [
    "two_way_anova('Score', 'Position2', 'Age')"
   ]
  },
  {
   "cell_type": "markdown",
   "metadata": {},
   "source": [
    "### Result when measured against Zeit (Referenz-Test)"
   ]
  },
  {
   "cell_type": "code",
   "execution_count": 238,
   "metadata": {
    "collapsed": false
   },
   "outputs": [
    {
     "name": "stdout",
     "output_type": "stream",
     "text": [
      "                           sum_sq    df          F    PR(>F)    eta_sq  \\\n",
      "C(Position2)         3.625983e+05   1.0  13.478653  0.000443  0.119911   \n",
      "C(Age)               5.607590e+05   1.0  20.844766  0.000019  0.185442   \n",
      "C(Position2):C(Age)  2.912065e+04   1.0   1.082485  0.301398  0.009630   \n",
      "Residual             2.071429e+06  77.0        NaN       NaN       NaN   \n",
      "\n",
      "                     omega_sq  \n",
      "C(Position2)         0.110035  \n",
      "C(Age)               0.174989  \n",
      "C(Position2):C(Age)  0.000727  \n",
      "Residual                  NaN  \n"
     ]
    },
    {
     "data": {
      "image/png": "[encoded data removed]",
      "text/plain": [
       "<matplotlib.figure.Figure at 0x7fc6677a4550>"
      ]
     },
     "metadata": {},
     "output_type": "display_data"
    }
   ],
   "source": [
    "two_way_anova('Zeit_3', 'Position2', 'Age')"
   ]
  },
  {
   "cell_type": "markdown",
   "metadata": {},
   "source": [
    "### Result when measured against Score (Referenz-Test)"
   ]
  },
  {
   "cell_type": "code",
   "execution_count": 239,
   "metadata": {
    "collapsed": false
   },
   "outputs": [
    {
     "name": "stdout",
     "output_type": "stream",
     "text": [
      "                          sum_sq    df         F    PR(>F)    eta_sq  omega_sq\n",
      "C(Position2)          148.294433   1.0  1.165485  0.283701  0.014209  0.001993\n",
      "C(Age)                274.780666   1.0  2.159573  0.145758  0.026328  0.013966\n",
      "C(Position2):C(Age)   216.463495   1.0  1.701243  0.196011  0.020740  0.008446\n",
      "Residual             9797.358781  77.0       NaN       NaN       NaN       NaN\n"
     ]
    },
    {
     "data": {
      "image/png": "[encoded data removed]",
      "text/plain": [
       "<matplotlib.figure.Figure at 0x7fc6673604e0>"
      ]
     },
     "metadata": {},
     "output_type": "display_data"
    }
   ],
   "source": [
    "two_way_anova('Score_3', 'Position2', 'Age')"
   ]
  }
 ],
 "metadata": {
  "kernelspec": {
   "display_name": "Python 3",
   "language": "python",
   "name": "python3"
  },
  "language_info": {
   "codemirror_mode": {
    "name": "ipython",
    "version": 3
   },
   "file_extension": ".py",
   "mimetype": "text/x-python",
   "name": "python",
   "nbconvert_exporter": "python",
   "pygments_lexer": "ipython3",
   "version": "3.6.0"
  }
 },
 "nbformat": 4,
 "nbformat_minor": 2
}
